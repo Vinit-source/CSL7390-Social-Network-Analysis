{
  "nbformat": 4,
  "nbformat_minor": 0,
  "metadata": {
    "colab": {
      "name": "SNA Project.ipynb",
      "provenance": [],
      "collapsed_sections": [
        "SOOSXEs1dGX6"
      ],
      "toc_visible": true
    },
    "kernelspec": {
      "display_name": "Python 3",
      "name": "python3"
    },
    "language_info": {
      "name": "python"
    }
  },
  "cells": [
    {
      "cell_type": "markdown",
      "metadata": {
        "id": "wIXEMp6cK3kB"
      },
      "source": [
        "# Imports"
      ]
    },
    {
      "cell_type": "code",
      "metadata": {
        "id": "Cp4xP6Ohz_HY"
      },
      "source": [
        "# Set to True if Debugging\n",
        "_DEBUG = False\n",
        "SEED = 1234\n",
        "\n",
        "# Imports\n",
        "import unittest\n",
        "import networkx as nx"
      ],
      "execution_count": null,
      "outputs": []
    },
    {
      "cell_type": "markdown",
      "metadata": {
        "id": "MSmg8jTn59Z6"
      },
      "source": [
        "# Utilities"
      ]
    },
    {
      "cell_type": "code",
      "metadata": {
        "id": "ECxxO67jjAoa"
      },
      "source": [
        "import matplotlib.pyplot as plt\n",
        "import math\n",
        "\n",
        "def plot(G, pos=None, seed=20532, label_options=None):\n",
        "    if pos == None:\n",
        "        pos = nx.spring_layout(G, seed=seed)\n",
        "    if label_options == None:\n",
        "        label_options = {\"ec\": \"k\", \"fc\": \"white\", \"alpha\": 0.7}\n",
        "    if len(G) < 100:\n",
        "        fs = 14\n",
        "    else:\n",
        "        fs = 10\n",
        "    nx.draw(G, pos)\n",
        "    nx.draw_networkx_labels(G, pos, font_size=fs, bbox=label_options)\n",
        "    plt.show()\n",
        "\n",
        "def makestr(u, v):\n",
        "    return f\"{u}_{v}\"\n",
        "\n",
        "def LogSpace(lower, upper, epsilon):\n",
        "    ts = []\n",
        "    if epsilon > 0.0:\n",
        "        ilower = math.ceil(math.log(lower)/math.log(1+epsilon))\n",
        "        val = (1+epsilon) ** ilower\n",
        "        while val <= upper:\n",
        "            ts.append(val)\n",
        "            ilower += 1\n",
        "            val = (1+epsilon) ** ilower\n",
        "    else:\n",
        "        raise RunTimeError(\"LogSpace: epsilon must be a positive real-number (is: \", epsilon, \").\")\n",
        "    return ts\n"
      ],
      "execution_count": null,
      "outputs": []
    },
    {
      "cell_type": "code",
      "metadata": {
        "colab": {
          "base_uri": "https://localhost:8080/"
        },
        "id": "4Zh1LazjB7No",
        "outputId": "3f702ddc-7b00-4178-a01f-3323e4b31d1f"
      },
      "source": [
        "LogSpace(1, 100, 0.3)"
      ],
      "execution_count": null,
      "outputs": [
        {
          "output_type": "execute_result",
          "data": {
            "text/plain": [
              "[1.0,\n",
              " 1.3,\n",
              " 1.6900000000000002,\n",
              " 2.197,\n",
              " 2.8561000000000005,\n",
              " 3.7129300000000005,\n",
              " 4.826809000000001,\n",
              " 6.274851700000002,\n",
              " 8.157307210000003,\n",
              " 10.604499373000003,\n",
              " 13.785849184900005,\n",
              " 17.921603940370005,\n",
              " 23.29808512248101,\n",
              " 30.287510659225312,\n",
              " 39.37376385699291,\n",
              " 51.18589301409078,\n",
              " 66.54166091831802,\n",
              " 86.50415919381344]"
            ]
          },
          "metadata": {},
          "execution_count": 4
        }
      ]
    },
    {
      "cell_type": "code",
      "metadata": {
        "id": "M2NXsXPK7jhA"
      },
      "source": [
        "import os\n",
        "import gzip\n",
        "import shutil\n",
        "import requests\n",
        "\n",
        "# Download graph\n",
        "def download_graph_files(name_list):\n",
        "    if os.path.exists(f\"datasets/{name_list[0]}.txt\"):\n",
        "        return\n",
        "\n",
        "    name_to_filelink = {\n",
        "            \"pokec\" : \"http://snap.stanford.edu/data/soc-pokec-relationships.txt.gz\",\n",
        "            \"enron\" : \"http://snap.stanford.edu/data/email-Enron.txt.gz\",\n",
        "            \"twitter\": \"http://snap.stanford.edu/data/twitter_combined.txt.gz\"\n",
        "        } \n",
        "\n",
        "    # Download graph\n",
        "    for name in name_list:\n",
        "        url = name_to_filelink[name]\n",
        "        filename = url.split(\"/\")[-1]\n",
        "        with open(filename, \"wb\") as f:\n",
        "            r = requests.get(url)\n",
        "            f.write(r.content)\n",
        "        \n",
        "    # Unzip\n",
        "    os.makedirs(\"datasets\") if not os.path.exists(\"datasets\") else None\n",
        "    with gzip.open(filename, 'rb') as f_in:\n",
        "        with open('datasets/'+name+'.txt', 'wb') as f_out:\n",
        "            shutil.copyfileobj(f_in, f_out)\n",
        "\n",
        "# run download\n",
        "download_graph_files([\"enron\"])       # download_graph_files([\"enron\", \"pokec\"]) for both graphs"
      ],
      "execution_count": null,
      "outputs": []
    },
    {
      "cell_type": "markdown",
      "metadata": {
        "id": "xmsr_e5nTOHJ"
      },
      "source": [
        "# Graph-Networkx"
      ]
    },
    {
      "cell_type": "code",
      "metadata": {
        "id": "iMxdI3dpTQQl"
      },
      "source": [
        "import numpy as np\n",
        "\n",
        "class Graph_Networkx():\n",
        "    '''\n",
        "    Loads a directed graph into memory in networkx format and returns Graph_Networkx object. \n",
        "    A directed edge from u to v represents that u influences v.\n",
        "    !TODO: Store graphs in files. \n",
        "    '''\n",
        "    name_to_graph = {}\n",
        "    def __init__(self, name):   # DBLP part excluded\n",
        "        self._name = name\n",
        "        \n",
        "        # File links are in txt format.\n",
        "        names = set([\"pokec\", \"enron\", \"synBA\", \"twitter\"])\n",
        "\n",
        "        if not self._name in names:\n",
        "            raise Exception(\"Unknown graph name. Input to Graph() should be in {}\".format(\n",
        "                list(names)\n",
        "            )) \n",
        "\n",
        "        filepath = 'datasets/{}.txt'.format(self._name)  # filepath => filename\n",
        "        print(\"Reading graph from\", filepath, \"...\")\n",
        "        self._graph = nx.read_edgelist(filepath, create_using=nx.DiGraph, nodetype=int)\n",
        "        self._neighbours = {n: list(nbrdict) for n, nbrdict in self._graph.adjacency()}\n",
        "        self._leftVertices = list(set([i for i, j in self._graph.edges]))\n",
        "        self._rightVertices = list(set([j for i, j in self._graph.edges]))\n",
        "        print(\"Read\", nx.info(self._graph))\n",
        "\n",
        "    def __copy__(self):\n",
        "        raise Exception(\"Graph cannot be copied\")\n",
        "    \n",
        "    def __deepcopy__(self):\n",
        "        raise Exception(\"Graph cannot be copied\")\n",
        "\n",
        "    @staticmethod\n",
        "    def get_graph(name):\n",
        "        if not name in Graph_Networkx.name_to_graph:\n",
        "            Graph_Networkx.name_to_graph[name] = Graph_Networkx(name)\n",
        "        return Graph_Networkx.name_to_graph[name]\n",
        "\n",
        "    def get_edges(self):\n",
        "        return self._graph.edges\n",
        "    \n",
        "    def get_size(self):\n",
        "        return self._graph.size()\n",
        "\n",
        "    def get_coverable_vertices(self):\n",
        "        return self._rightVertices\n",
        "\n",
        "    def get_universe_vertices(self):\n",
        "        return self._leftVertices\n",
        "\n",
        "    def get_neighbours(self, i):\n",
        "        return self._neighbours[i]\n",
        "\n",
        "    def get_graph_name(self):\n",
        "        return self._name\n",
        "    "
      ],
      "execution_count": null,
      "outputs": []
    },
    {
      "cell_type": "markdown",
      "metadata": {
        "id": "uoYDKR-AXBGV"
      },
      "source": [
        "## Tests"
      ]
    },
    {
      "cell_type": "code",
      "metadata": {
        "colab": {
          "base_uri": "https://localhost:8080/"
        },
        "id": "j78ZsEZvc8BZ",
        "outputId": "19d18fa3-1aeb-4852-bcdf-3a9fdb7cf4dc"
      },
      "source": [
        " import random\n",
        "\n",
        " class TestGraph(unittest.TestCase):\n",
        "    graph_name = \"enron\"\n",
        "    filepath = 'datasets/{}.txt'.format(graph_name)  # filepath => filename\n",
        "    G = nx.read_edgelist(filepath, create_using=nx.DiGraph, nodetype=int)\n",
        "    graph = Graph_Networkx.get_graph(graph_name)\n",
        "\n",
        "    def test_enron(self):\n",
        "        '''Test case function to check correct loading of dataset'''\n",
        "        result = TestGraph.graph._graph.number_of_nodes(), TestGraph.graph._graph.number_of_edges()\n",
        "        expected = (36692, 367662)\n",
        "        self.assertEqual(result, expected)\n",
        "    \n",
        "    # def test_pokec(self):\n",
        "    #     '''Test case function to check correct loading of dataset'''\n",
        "    #     TestGraph.graph = Graph.get_graph(\"pokec\")\n",
        "    #     result = TestGraph.graph._numVertices, TestGraph.graph._numEdges\n",
        "    #     expected = (1632803, 30622564)\n",
        "    #     self.assertEqual(result, expected)\n",
        "\n",
        "    def test_neighbour_count(self):\n",
        "        '''Test case function to check if all neighbour counts are correct'''\n",
        "       # test\n",
        "        node = TestGraph.graph.get_universe_vertices()[int(random.random()*len(TestGraph.graph.get_universe_vertices()))]\n",
        "        self.assertEqual(len(list(TestGraph.G.successors(node))), len(TestGraph.graph.get_neighbours(node)))\n",
        "    \n",
        "    def test_neighbour_vertices(self):\n",
        "        '''Test case function to check if all neighbour vertices are correct'''\n",
        "        # test\n",
        "        node = TestGraph.graph.get_universe_vertices()[int(random.random()*len(TestGraph.graph.get_universe_vertices()))]\n",
        "        self.assertEqual(list(TestGraph.G.successors(node)), TestGraph.graph.get_neighbours(node))\n",
        "    \n",
        "    def test_empty_neighbours(self):\n",
        "        '''Test case function to check if a node without neighbours returns empty list'''\n",
        "        try:\n",
        "            node = (set(TestGraph.graph.get_coverable_vertices()) - set(TestGraph.graph.get_universe_vertices())).pop()\n",
        "        except KeyError as e:\n",
        "            print(\"All elements have neighbours.\")\n",
        "            print(e)\n",
        "            return\n",
        "        print(node)\n",
        "        assert(node not in TestGraph.graph.get_universe_vertices())\n",
        "        self.assertEqual(TestGraph.graph.get_neighbours(node), [])"
      ],
      "execution_count": null,
      "outputs": [
        {
          "output_type": "stream",
          "name": "stdout",
          "text": [
            "Reading graph from datasets/enron.txt ...\n",
            "Read DiGraph with 36692 nodes and 367662 edges\n"
          ]
        }
      ]
    },
    {
      "cell_type": "code",
      "metadata": {
        "colab": {
          "base_uri": "https://localhost:8080/"
        },
        "id": "62QkAVnaeD7Y",
        "outputId": "51f115c3-b1da-4a9e-d673-f28ebb606791"
      },
      "source": [
        "unittest.main(argv=[''], verbosity=2, exit=False)"
      ],
      "execution_count": null,
      "outputs": [
        {
          "output_type": "stream",
          "name": "stderr",
          "text": [
            "test_empty_neighbours (__main__.TestGraph)\n",
            "Test case function to check if a node without neighbours returns empty list ... ok\n",
            "test_enron (__main__.TestGraph)\n",
            "Test case function to check correct loading of dataset ... ok\n",
            "test_neighbour_count (__main__.TestGraph)\n",
            "Test case function to check if all neighbour counts are correct ... ok\n",
            "test_neighbour_vertices (__main__.TestGraph)\n",
            "Test case function to check if all neighbour vertices are correct ... "
          ]
        },
        {
          "output_type": "stream",
          "name": "stdout",
          "text": [
            "All elements have neighbours.\n",
            "'pop from an empty set'\n"
          ]
        },
        {
          "output_type": "stream",
          "name": "stderr",
          "text": [
            "ok\n",
            "\n",
            "----------------------------------------------------------------------\n",
            "Ran 4 tests in 0.048s\n",
            "\n",
            "OK\n"
          ]
        },
        {
          "output_type": "execute_result",
          "data": {
            "text/plain": [
              "<unittest.main.TestProgram at 0x7faa10602a10>"
            ]
          },
          "metadata": {},
          "execution_count": 8
        }
      ]
    },
    {
      "cell_type": "markdown",
      "metadata": {
        "id": "TOAWsrWXg_21"
      },
      "source": [
        "# Create Synthetic Graphs"
      ]
    },
    {
      "cell_type": "code",
      "metadata": {
        "id": "tINTwmKgg0pa",
        "colab": {
          "base_uri": "https://localhost:8080/"
        },
        "outputId": "d1d2350e-01ea-45cc-c4d7-fa0ebee09925"
      },
      "source": [
        "import networkx as nx\n",
        "class Barabasi_Albert_Graph(object):\n",
        "    def __init__(self, N, m):\n",
        "        '''\n",
        "        N: Number of nodes in the graph\n",
        "        m: Number of nodes preferentially attached to every new node.\n",
        "        '''\n",
        "        self.N = N\n",
        "        self.m = m\n",
        "        self._graph = None\n",
        "    \n",
        "    def create(self, seed=None):\n",
        "        self._graph = nx.scale_free_graph(self.N, seed=seed)\n",
        "        self._name = \"synBA\"\n",
        "        print(nx.info(self._graph))\n",
        "    \n",
        "    def store_edge_list(self):\n",
        "        if self._graph == None:\n",
        "            raise Exception(\"Graph not yet created. First call obj.create() and then obj.store_edge_list().\")\n",
        "        uniq_edges = list({f\"{u} {v}\\n\" for (u, v, _) in list(self._graph.edges)})\n",
        "        with open(f\"datasets/{self._name}.txt\", \"w\") as f:\n",
        "            f.writelines(uniq_edges)\n",
        "    \n",
        "    def plot(self):\n",
        "        plot(self._graph)\n",
        "\n",
        "\n",
        "ba = Barabasi_Albert_Graph(1000, 3) # Change to (5000, 3) and run all to replicate the experiments\n",
        "ba.create(seed=SEED) \n",
        "ba.store_edge_list()"
      ],
      "execution_count": null,
      "outputs": [
        {
          "output_type": "stream",
          "name": "stdout",
          "text": [
            "MultiDiGraph with 1000 nodes and 2198 edges\n"
          ]
        }
      ]
    },
    {
      "cell_type": "code",
      "metadata": {
        "id": "XQXDOXPZjoNe"
      },
      "source": [
        ""
      ],
      "execution_count": null,
      "outputs": []
    },
    {
      "cell_type": "markdown",
      "metadata": {
        "id": "dDoayDTc5qo8"
      },
      "source": [
        "# Submodular Function"
      ]
    },
    {
      "cell_type": "code",
      "metadata": {
        "id": "mSOmx9IH5ssz"
      },
      "source": [
        "from abc import abstractmethod\n",
        "import numpy as np\n",
        "from copy import copy\n",
        "\n",
        "class SubmodularFunction():\n",
        "    _oracle_calls = 0   # Why static i.e. common to all objects? continuous variable like time. We consider ddifference for calcs.\n",
        "\n",
        "    @abstractmethod\n",
        "    def reset(self):\n",
        "        '''\n",
        "        Sets S = empty set.\n",
        "        '''\n",
        "        pass\n",
        "\n",
        "    @abstractmethod\n",
        "    def add(self, element):\n",
        "        '''\n",
        "        Adds a new element to set S.\n",
        "        '''\n",
        "        pass\n",
        "\n",
        "    @abstractmethod\n",
        "    def delta(self, element):\n",
        "        '''\n",
        "        Computes f(S u {e}) - f(S).\n",
        "        '''\n",
        "        pass\n",
        "\n",
        "    @abstractmethod\n",
        "    def get_universe(self):\n",
        "        '''\n",
        "        Returns the universe of the utility function. (refer Graph)\n",
        "        '''\n",
        "        pass\n",
        "\n",
        "    @abstractmethod\n",
        "    def get_universe_size(self):\n",
        "        '''\n",
        "        Returns the size of the universe of the utility function. (refer Graph)\n",
        "        '''\n",
        "        pass\n",
        "\n",
        "    @abstractmethod\n",
        "    def get_name(self):\n",
        "        '''\n",
        "        Get name of utility function.    \n",
        "        '''\n",
        "        pass\n",
        "\n",
        "    @abstractmethod\n",
        "    def clone(self):\n",
        "        '''\n",
        "        Clone the object\n",
        "        '''\n",
        "        pass\n",
        "\n",
        "    def add_and_increase_oracle_call(self, element, thres=None):\n",
        "        '''\n",
        "        Adds element 'e' to the function using Add(e) and also increases\n",
        "        oracle_calls.\n",
        "        '''\n",
        "        SubmodularFunction._oracle_calls += 1   # considering oracle calls are counted irrespective of the contribution because oracle_calls is a sort of time measure\n",
        "        if thres == None:                           # two parameter format\n",
        "            # SubmodularFunction._oracle_calls += 1\n",
        "            return self.add(element)\n",
        "        else:                                       # three parameter format\n",
        "        #   Adds element if and only if its contribution is >= thres.\n",
        "        #   Return the contribution increase.\n",
        "            delta_e = self.delta(element)\n",
        "            if delta_e >= thres:\n",
        "                self.add(element)\n",
        "                # self._f_val += delta_e\n",
        "                return delta_e\n",
        "            else:\n",
        "                return 0.\n",
        "\n",
        "    def delta_and_increase_oracle_call(self, element):\n",
        "        '''\n",
        "        Returns the delta by adding this element using Delta(e) and also increases\n",
        "        oracle_calls.\n",
        "        '''\n",
        "        SubmodularFunction._oracle_calls += 1\n",
        "        return self.delta(element)\n",
        "    \n",
        "    def get_opt_estimates(self, cardinality_k, epsilon_for_opt_estimates):\n",
        "        '''\n",
        "        Returns the guess of the optimum solution. (Refer SieveStreaming paper: http://ww.cs.cornell.edu/~ashwin85/docs/frp0328-badanidiyuru.pdf)\n",
        "        '''\n",
        "        '''\n",
        "        Gets geometrically increasing sequence of estimates for OPT.\n",
        "        Should be always run on an empty function.\n",
        "        Used for Sieve-Streaming and for our algorithm.\n",
        "        Could optimize: this gets re-estimated every time an algorithm is run.\n",
        "        '''\n",
        "        # EPSILON_FOR_OPT_ESTIMATES = 0.3\n",
        "\n",
        "        '''\n",
        "        Elements with delta less than this wont be considered. For the experiments,\n",
        "        mostly the delta values are integer so values smaller way than 1 are\n",
        "        simply double errors.\n",
        "        '''\n",
        "        MIN_CONSIDERED_DELTA = 1e-11\n",
        "        lb_opt = 1.0\n",
        "        ub_opt = lb_opt * cardinality_k\n",
        "        # print(\"k\", cardinality_k, \"lbopt, ubopt\", (lb_opt, ub_opt))\n",
        "        return LogSpace(lb_opt, ub_opt, epsilon_for_opt_estimates)    # Refer https://www.geeksforgeeks.org/numpy-logspace-python/\n"
      ],
      "execution_count": null,
      "outputs": []
    },
    {
      "cell_type": "markdown",
      "metadata": {
        "id": "dwV6TVPc6hss"
      },
      "source": [
        "## Graph Utility"
      ]
    },
    {
      "cell_type": "code",
      "metadata": {
        "id": "0bErXH9R6vj5"
      },
      "source": [
        "class GraphUtility(SubmodularFunction):\n",
        "    def __init__(self, graph_name):\n",
        "        # self._graph = Graph.get_graph(graph_name) # construct graph\n",
        "        self._graph = Graph_Networkx.get_graph(graph_name) # construct graph\n",
        "        self._present_elements = {n:False for n in self._graph.get_coverable_vertices()}\n",
        "        # self._f_val = 0.0\n",
        "        self.univ_size = len(self._graph.get_universe_vertices())   # Added\n",
        "\n",
        "    # Removes all the data that it has\n",
        "    def reset(self):\n",
        "        self._present_elements = {n:False for n in self._graph.get_coverable_vertices()}\n",
        "    \n",
        "    # The delta added by inserting this element.\n",
        "    def delta(self, element):\n",
        "        val = 0\n",
        "        for x in self._graph.get_neighbours(element):\n",
        "            if not self._present_elements[x]:\n",
        "                val += 1\n",
        "        return val\n",
        "    \n",
        "    # Adds element e.\n",
        "    def add(self, element):\n",
        "        for x in self._graph.get_neighbours(element):\n",
        "            self._present_elements[x] = True\n",
        "\n",
        "    def get_universe(self):\n",
        "        return self._graph.get_universe_vertices()\n",
        "    \n",
        "    def get_universe_size(self):\n",
        "        return self.univ_size\n",
        "    \n",
        "    def get_edges(self):\n",
        "        return list(self._graph.get_edges())\n",
        "    \n",
        "    def get_num_edges(self):\n",
        "        return self._graph.get_size()\n",
        "    \n",
        "    def get_name(self):\n",
        "        # return \"Graph(\" + self._graph.get_graph_name() + \")\"\n",
        "        return \"Graph_Networkx(\" + self._graph.get_graph_name() + \")\"\n",
        "\n",
        "    def clone(self):\n",
        "        return GraphUtility(self._graph._name) # returns an exclusive pointer to self.Only that pointer points to the object."
      ],
      "execution_count": null,
      "outputs": []
    },
    {
      "cell_type": "markdown",
      "metadata": {
        "id": "5xg6ap2Dei_o"
      },
      "source": [
        "### Tests"
      ]
    },
    {
      "cell_type": "code",
      "metadata": {
        "colab": {
          "base_uri": "https://localhost:8080/"
        },
        "id": "C7BW4PRLeepH",
        "outputId": "05e98e54-4638-4ea9-f01a-0bf3788ffc00"
      },
      "source": [
        "import numpy as np\n",
        "test_sub = GraphUtility('synBA')\n",
        "ks = np.arange(10, 201, 10)\n",
        "for k in ks:\n",
        "    estimates = test_sub.get_opt_estimates(k, 0.3)\n",
        "    print(k, estimates[-1], len(estimates))"
      ],
      "execution_count": null,
      "outputs": [
        {
          "output_type": "stream",
          "name": "stdout",
          "text": [
            "Reading graph from datasets/synBA.txt ...\n",
            "Read DiGraph with 1000 nodes and 1781 edges\n",
            "10 8.157307210000003 9\n",
            "20 17.921603940370005 12\n",
            "30 23.29808512248101 13\n",
            "40 39.37376385699291 15\n",
            "50 39.37376385699291 15\n",
            "60 51.18589301409078 16\n",
            "70 66.54166091831802 17\n",
            "80 66.54166091831802 17\n",
            "90 86.50415919381344 18\n",
            "100 86.50415919381344 18\n",
            "110 86.50415919381344 18\n",
            "120 112.45540695195746 19\n",
            "130 112.45540695195746 19\n",
            "140 112.45540695195746 19\n",
            "150 146.1920290375447 20\n",
            "160 146.1920290375447 20\n",
            "170 146.1920290375447 20\n",
            "180 146.1920290375447 20\n",
            "190 146.1920290375447 20\n",
            "200 190.04963774880812 21\n"
          ]
        }
      ]
    },
    {
      "cell_type": "markdown",
      "metadata": {
        "id": "ZQTYWHJQQxJh"
      },
      "source": [
        "## Custom Submodular Function"
      ]
    },
    {
      "cell_type": "code",
      "metadata": {
        "id": "iP6gkH5DQ2V6"
      },
      "source": [
        "# class GraphUtilityforIC(SubmodularFunction):\n",
        "#     # stores actions instead of elements\n",
        "#     def __init__(self, graph_name):\n",
        "#         self._graph = Graph_Networkx.get_graph(graph_name) # construct graph\n",
        "#         self._present_actions = {makestr(u,v):False for u, v in self._graph.get_edges()}\n",
        "#         self._present_elements = {n:False for n in self._graph.get_coverable_vertices()}\n",
        "#         # self._f_val = 0.0\n",
        "#         self.univ_size = len(self._graph.get_num_edges())   # Added\n",
        "\n",
        "#     # Removes all the data that it has\n",
        "#     def reset(self):\n",
        "#         self._present_actions = {makestr(u, v):False for u, v in self._graph.get_edges()}\n",
        "#         self._present_elements = {n:False for n in self._graph.get_coverable_vertices()}\n",
        "    \n",
        "#     # The delta added by inserting this action.\n",
        "#     def delta(self, action):\n",
        "#         val = 0\n",
        "#         u, v = action\n",
        "#         for x in self._graph.get_neighbours(u):\n",
        "#             if not self._present_elements[x]:\n",
        "#                 val += 1\n",
        "#         return val\n",
        "    \n",
        "#     # Adds element e.\n",
        "#     def add(self, element):\n",
        "#         pass\n",
        "\n",
        "#     def get_universe(self):\n",
        "#         pass\n",
        "    \n",
        "#     @abstractmethod\n",
        "#     def get_universe_size(self):\n",
        "#         pass\n",
        "    \n",
        "#     def get_name(self):\n",
        "#         pass\n",
        "\n",
        "#     def clone(self):\n",
        "#         return CustomSubmodularFunction() # returns an exclusive pointer to self.Only that pointer points to the object."
      ],
      "execution_count": null,
      "outputs": []
    },
    {
      "cell_type": "markdown",
      "metadata": {
        "id": "r36hAHdE-vDd"
      },
      "source": [
        "# Algorithms"
      ]
    },
    {
      "cell_type": "code",
      "metadata": {
        "id": "vIEqLgoE5dnU"
      },
      "source": [
        "from abc import ABC, abstractmethod\n",
        "\n",
        "class Algorithm(ABC):\n",
        "    '''\n",
        "    Abstract class for algorithms. Must implement all methods in this class in your derived class\n",
        "    '''\n",
        "    def __init__(self, sub_func_f, cardinality_k): \n",
        "        \"\"\"\n",
        "        Must be implemented in the derived algorithm class.\n",
        "        \"\"\" \n",
        "        self._sub_func_f = sub_func_f.clone()    # Is .copy() required?\n",
        "        self._cardinality_k = cardinality_k\n",
        "    \n",
        "    @abstractmethod\n",
        "    def insert(self, element): \n",
        "        \"\"\"\n",
        "        Must be implemented in the derived algorithm class.\n",
        "        \"\"\" \n",
        "        pass\n",
        "\n",
        "    @abstractmethod\n",
        "    def erase(self, element): \n",
        "        \"\"\"\n",
        "        Must be implemented in the derived algorithm class.\n",
        "        \"\"\" \n",
        "        pass\n",
        "\n",
        "    @abstractmethod\n",
        "    def get_solution_value(self): \n",
        "        \"\"\"\n",
        "        Must be implemented in the derived algorithm class.\n",
        "        \"\"\" \n",
        "        pass\n",
        "\n",
        "    @abstractmethod\n",
        "    def get_solution_vector(self): \n",
        "        \"\"\"\n",
        "        Must be implemented in the derived algorithm class.\n",
        "        \"\"\" \n",
        "        pass\n",
        "\n",
        "    @abstractmethod\n",
        "    def get_algorithm_name(self): \n",
        "        \"\"\"\n",
        "        Must be implemented in the derived algorithm class.\n",
        "        \"\"\" \n",
        "        pass"
      ],
      "execution_count": null,
      "outputs": []
    },
    {
      "cell_type": "markdown",
      "metadata": {
        "id": "cHME6vG_5GLk"
      },
      "source": [
        "## Random Subset Algorithm"
      ]
    },
    {
      "cell_type": "code",
      "metadata": {
        "id": "89RAl59x5IMG"
      },
      "source": [
        "class RandomSubsetAlgorithm(Algorithm):\n",
        "    def __init__(self, sub_func_f, cardinality_k):\n",
        "        super(RandomSubsetAlgorithm, self).__init__(sub_func_f, cardinality_k)\n",
        "        self._universe_elements = []\n",
        "        self._universe_elements_size = 0\n",
        "        self._solution = []\n",
        "        self._solution_size = 0\n",
        "    \n",
        "    def insert(self, element):\n",
        "        if self._solution_size < self._cardinality_k:\n",
        "            self.append_and_increment(True, element)\n",
        "        else:\n",
        "            self.append_and_increment(False, element)\n",
        "            prob_in_random_solution = self._cardinality_k / (self._cardinality_k + self._universe_elements_size)\n",
        "            random_value = random.random()\n",
        "            if random_value < prob_in_random_solution:\n",
        "                rand_idx = random.randint(0, self._solution_size-1)\n",
        "                self._solution[rand_idx], self._universe_elements[-1] =  self._universe_elements[-1], self._solution[rand_idx]\n",
        "    \n",
        "    def erase(self, element):\n",
        "        if self.remove_and_decrement(True, element):\n",
        "            if not self._universe_elements_size == 0:\n",
        "                rand_ele = self._universe_elements.pop(random.randint(0, self._universe_elements_size-1))\n",
        "                self._universe_elements_size -= 1\n",
        "                self.append_and_increment(True, rand_ele)\n",
        "            return\n",
        "        self.remove_and_decrement(False, element)\n",
        "    \n",
        "    def get_solution_value(self):\n",
        "        self._sub_func_f.reset()\n",
        "        obj_val = 0.\n",
        "        for element_in_solution in self._solution:\n",
        "            obj_val += self._sub_func_f.add_and_increase_oracle_call(element_in_solution, -1)\n",
        "        SubmodularFunction._oracle_calls -=  self._solution_size;    # logic behind this statement?\n",
        "        # Should be just one call in our model.\n",
        "        return obj_val\n",
        "    \n",
        "    def get_solution_vector(self):\n",
        "        return self._solution\n",
        "\n",
        "    def get_algorithm_name():\n",
        "        return \"Totally Random Algorithm\"\n",
        "\n",
        "    def append_and_increment(self, is_solution, element):\n",
        "        if not is_solution:\n",
        "            self._universe_elements.append(element)\n",
        "            self._universe_elements_size += 1\n",
        "        elif is_solution :\n",
        "            self._solution.append(element)\n",
        "            self._solution_size += 1    \n",
        "\n",
        "    def remove_and_decrement(self, is_solution, element):\n",
        "        if not is_solution:\n",
        "            try:\n",
        "                self._universe_elements.remove(element)\n",
        "                self._universe_elements_size -= 1    \n",
        "            except ValueError:\n",
        "                return False\n",
        "            return True\n",
        "        elif is_solution:\n",
        "            try:\n",
        "                self._solution.remove(element)\n",
        "                self._solution_size -= 1\n",
        "            except ValueError:\n",
        "                return False\n",
        "            return True"
      ],
      "execution_count": null,
      "outputs": []
    },
    {
      "cell_type": "markdown",
      "metadata": {
        "id": "EhC09TeX-wZc"
      },
      "source": [
        "## Greedy Algorithm"
      ]
    },
    {
      "cell_type": "code",
      "metadata": {
        "id": "1mdzafOT5bSd"
      },
      "source": [
        "class GreedyAlgorithm(Algorithm):\n",
        "    def __init__(self, sub_func_f, cardinality_k):\n",
        "        super(GreedyAlgorithm, self).__init__(sub_func_f, cardinality_k)\n",
        "        self._available_elements = set()\n",
        "    \n",
        "    def insert(self, element):\n",
        "        self._available_elements.add(element)\n",
        "    \n",
        "    def erase(self, element):\n",
        "        if element not in self._available_elements:\n",
        "            return\n",
        "        self._available_elements.remove(element)\n",
        "    \n",
        "    def get_solution_value(self):\n",
        "        self._sub_func_f.reset()\n",
        "        obj_val = 0.\n",
        "        for i in range(self._cardinality_k):\n",
        "            best = (-1, -1)\n",
        "            for x in self._available_elements:\n",
        "                best = max(best, (self._sub_func_f.delta_and_increase_oracle_call(x), x))\n",
        "            if best[0] < 1e-11:\n",
        "                break\n",
        "            else:\n",
        "                self._sub_func_f.add_and_increase_oracle_call(best[1])\n",
        "                obj_val += best[0]\n",
        "        return obj_val\n",
        "    \n",
        "    def get_solution_vector(self):\n",
        "        self._sub_func_f.reset()\n",
        "        solution = []\n",
        "        for i in range(self._cardinality_k):\n",
        "            best = (-1, -1)\n",
        "            for x in self._available_elements:\n",
        "                best = max(best, (self._sub_func_f.delta_and_increase_oracle_call(x), x))\n",
        "            if best[0] < 1e-11:\n",
        "                break\n",
        "            else:\n",
        "                self._sub_func_f.add_and_increase_oracle_call(best[1])\n",
        "                solution.append(best[1])\n",
        "        return solution\n",
        "\n",
        "    def get_algorithm_name():\n",
        "        return \"Greedy (simple)\"\n"
      ],
      "execution_count": null,
      "outputs": []
    },
    {
      "cell_type": "markdown",
      "metadata": {
        "id": "AQfg0OyfXQyA"
      },
      "source": [
        "## Sieve Streaming"
      ]
    },
    {
      "cell_type": "code",
      "metadata": {
        "id": "kjGqo-rMXUhW"
      },
      "source": [
        "DELETED_ELEMENT = -1    # constant for soft deletions in streams\n",
        "class SieveStreaming(Algorithm):\n",
        "    def __init__(self, sub_func_f, cardinality_k):\n",
        "        self._sieves = []\n",
        "        epsilon_for_opt_estimates = 0.3\n",
        "        for gamma in sub_func_f.get_opt_estimates(cardinality_k, epsilon_for_opt_estimates):\n",
        "            self._sieves.append(\n",
        "                self.SingleThresholdSieve(sub_func_f, cardinality_k, gamma)\n",
        "                )\n",
        "        self._stream = []\n",
        "        self._stream_size = 0\n",
        "        self._position_on_stream = {}\n",
        "    \n",
        "    def get_solution_value(self):\n",
        "        best = 0.0\n",
        "        for sieve in self._sieves:\n",
        "            best = max(best, sieve.get_solution_value())\n",
        "        return best\n",
        "    \n",
        "    def get_solution_vector(self):\n",
        "        best = 0.0\n",
        "        for sieve in self._sieves:\n",
        "            tmp = sieve.get_solution_value()\n",
        "            solution = sieve.get_solution_vector()\n",
        "            if tmp > best:\n",
        "                best = tmp\n",
        "                solution = sieve.get_solution_vector()\n",
        "        return solution\n",
        "\n",
        "    def insert(self, element):\n",
        "        # if element in self._position_on_stream:\n",
        "        #     raise Exception(\"Element is being inserted again despite not being deleted.\")\n",
        "        self._position_on_stream[element] = self._stream_size   # latest element on stream\n",
        "        self._stream.append(element)\n",
        "        self._stream_size += 1  # storing all elements from the input in stream format\n",
        "        for sieve in self._sieves:\n",
        "            sieve.process(element)\n",
        "    \n",
        "    def erase(self, element):\n",
        "        if not element in self._position_on_stream:\n",
        "            raise Exception(\"element is being deleted but was never inserted.\")\n",
        "        pos = self._position_on_stream.pop(element)\n",
        "        self._stream[pos] = DELETED_ELEMENT # soft-delete\n",
        "\n",
        "        for sieve in self._sieves:  # time complexity of deletion ranges over all elements in the stream. Mentioned by Mitrovic et. al in their paper\n",
        "            if sieve.is_in_solution(element):\n",
        "                sieve.reset()\n",
        "                for el in self._stream:\n",
        "                    if not el == DELETED_ELEMENT:\n",
        "                        sieve.process(el)\n",
        "\n",
        "    def get_algorithm_name(): return \"Sieve Streaming\"\n",
        "\n",
        "    class SingleThresholdSieve():\n",
        "        def __init__(self, sub_func_f, cardinality_k, gamma):\n",
        "            self._sub_func_f = sub_func_f.clone()\n",
        "            self._cardinality_k = cardinality_k\n",
        "            self._gamma = gamma\n",
        "            self._obj_vals = [0.0]\n",
        "            self._solution = [] # a class List_with_size could be implemented.\n",
        "            self._solution_size = 0\n",
        "        \n",
        "        #  Process the arrival of a new element e on the stream.\n",
        "        def process(self, element):\n",
        "            if self._solution_size < self._cardinality_k:\n",
        "                delta_e = self._sub_func_f.add_and_increase_oracle_call(element, (self._gamma / 2.0 - self._obj_vals[-1]) / (self._cardinality_k - self._solution_size))\n",
        "                # A constant that is used to controll the value of the elements added.\n",
        "                # Values less than this are basically zero (to avoid double errors).\n",
        "                EPSILON_TO_ADD = 1e-11\n",
        "                if delta_e > EPSILON_TO_ADD:\n",
        "                    self._solution.append(element)\n",
        "                    self._solution_size += 1\n",
        "                    self._obj_vals.append(self._obj_vals[-1] + delta_e)\n",
        "                else:\n",
        "                    pass    # Do nothing; solution already full\n",
        "            \n",
        "        def reset(self):\n",
        "            self._sub_func_f.reset()\n",
        "            self._solution.clear()\n",
        "            self._solution_size = 0\n",
        "            self._obj_vals = [0.0]\n",
        "        \n",
        "        def is_in_solution(self, element):\n",
        "            try:\n",
        "                self._solution.index(element)\n",
        "            except ValueError:\n",
        "                return False\n",
        "            return True\n",
        "        \n",
        "        def get_solution_value(self):\n",
        "            return self._obj_vals[-1]\n",
        "        \n",
        "        def get_solution_vector(self):\n",
        "            return self._solution\n",
        "\n"
      ],
      "execution_count": null,
      "outputs": []
    },
    {
      "cell_type": "markdown",
      "metadata": {
        "id": "F6Al2lAKVrXO"
      },
      "source": [
        "## Influential Checkpoints"
      ]
    },
    {
      "cell_type": "code",
      "metadata": {
        "id": "T6hMlozfVvIi"
      },
      "source": [
        "from collections import deque\n",
        "\n",
        "# IC Maintenance\n",
        "class IC_Maintenance(Algorithm):\n",
        "    def __init__(self, sub_func_f, cardinality_k, window_size): \n",
        "        super(IC_Maintenance, self).__init__(sub_func_f, cardinality_k)\n",
        "        self._window_size = window_size\n",
        "        self._checkpoints = deque([])\n",
        "        for i in range(window_size):\n",
        "            self._checkpoints.append(SieveStreaming(sub_func_f, cardinality_k))\n",
        "        print(\"IC Init complete\")\n",
        "    \n",
        "    def insert(self, element): \n",
        "        self._checkpoints.popleft()\n",
        "        self._checkpoints.append(SieveStreaming(self._sub_func_f, self._cardinality_k))\n",
        "        # for i in range(self._window_size-1):\n",
        "        #     self._checkpoints[i] = self._checkpoints[i+1]\n",
        "        for i in range(self._window_size):\n",
        "            self._checkpoints[i].insert(element)\n",
        "\n",
        "    def erase(self, element): \n",
        "        \"\"\"\n",
        "        Must be implemented in the derived algorithm class.\n",
        "        \"\"\" \n",
        "        pass\n",
        "\n",
        "    def get_solution_value(self): \n",
        "        return self._checkpoints[0].get_solution_value()\n",
        "\n",
        "    def get_solution_vector(self): \n",
        "        return self._checkpoints[0].get_solution_vector()\n",
        "\n",
        "    def get_algorithm_name(): \n",
        "        return \"IC Maintenance\""
      ],
      "execution_count": null,
      "outputs": []
    },
    {
      "cell_type": "markdown",
      "metadata": {
        "id": "SOOSXEs1dGX6"
      },
      "source": [
        "## Alg-Simple"
      ]
    },
    {
      "cell_type": "code",
      "metadata": {
        "id": "_potWHBBdIdA"
      },
      "source": [
        "from collections import deque\n",
        "\n",
        "'''\n",
        "Fully Dynamic Algorithm\n",
        "'''\n",
        "# Alg-Simple\n",
        "DELETED_ELEMENT = -1    # constant for soft deletions in streams\n",
        "class AlgSimple(Algorithm):\n",
        "    def __init__(self, sub_func_f, cardinality_k):\n",
        "        pass\n",
        "\n",
        "    def get_solution_value(self):\n",
        "        pass\n",
        "    \n",
        "    def get_solution_vector(self):\n",
        "        pass\n",
        "    def insert(self, element):\n",
        "        pass\n",
        "\n",
        "    def erase(self, element):\n",
        "        pass\n",
        "    def get_algorithm_name(): return \"Alg Simple\"\n",
        "\n",
        "    class SimpleThreshold():\n",
        "        def __init__(self, num_T, sub_func_f, cardinality_k, gamma, eps):\n",
        "            pass\n",
        "        \n",
        "        # // Process the arrival of a new element e on the stream.\n",
        "        def process(self, element):\n",
        "            pass\n",
        "            \n",
        "        def reset(self):\n",
        "            pass\n",
        "        \n",
        "        def is_in_solution(self, element):\n",
        "            pass\n",
        "        \n",
        "        def get_solution_value(self):\n",
        "            return self._obj_vals[-1]\n",
        "        \n",
        "        def get_solution_vector(self):\n",
        "            return self._solution\n",
        "\n",
        "        def level_construct(self, l_begin):\n",
        "            '''\n",
        "             For levels lower than l_begin, just condition f on the S-sets of those\n",
        "            levels.\n",
        "\n",
        "            When we are at l, this is the size of S_1 u S_2 u ... S_l.\n",
        "            '''\n",
        "            self._size_of_S = 0\n",
        "            self._sub_func_f.reset()\n",
        "            for l in range(l_begin):\n",
        "                for e in self._solution_S[l]:\n",
        "                    self._sub_func_f.add_and_increase_oracle_call(e)\n",
        "                    self._sub_func_f._oracle_calls -= 1\n",
        "                    self._size_of_S += 1\n",
        "        \n",
        "\n"
      ],
      "execution_count": null,
      "outputs": []
    },
    {
      "cell_type": "markdown",
      "metadata": {
        "id": "SFtGZr9NoZ06"
      },
      "source": [
        "# Experiments"
      ]
    },
    {
      "cell_type": "markdown",
      "metadata": {
        "id": "8G2JA-CNdKRA"
      },
      "source": [
        "## Window Experiment"
      ]
    },
    {
      "cell_type": "code",
      "metadata": {
        "id": "33WylCCloZGw"
      },
      "source": [
        "from tqdm import tqdm\n",
        "\n",
        "def window_experiment_general(sub_func_f, algo, window_size, **kwargs):\n",
        "    values = []\n",
        "    window_size = min(window_size, sub_func_f.get_universe_size())\n",
        "    # print(\"Universe\")\n",
        "    # print(sub_func_f.get_universe())\n",
        "    for i in tqdm(range(sub_func_f.get_universe_size() + window_size)):\n",
        "        # There are more elements to insert\n",
        "        if i < sub_func_f.get_universe_size():\n",
        "            algo.insert(sub_func_f.get_universe()[i])\n",
        "        \n",
        "        if i >= window_size:\n",
        "            algo.erase(sub_func_f.get_universe()[i - window_size])\n",
        "        values.append(algo.get_solution_value())\n",
        "\n",
        "    sum_values = 0.; len_values = 0\n",
        "    for v in values:\n",
        "        sum_values += v; len_values += 1\n",
        "    return sum_values/len_values\n",
        "        \n",
        "\n"
      ],
      "execution_count": null,
      "outputs": []
    },
    {
      "cell_type": "code",
      "metadata": {
        "id": "AI2qUIXNB41N"
      },
      "source": [
        "'''\n",
        "Window experiment for IC Maintenance algorithm.\n",
        "'''\n",
        "from tqdm import tqdm\n",
        "\n",
        "def window_experiment_for_IC(sub_func_f, algo, window_size, **kwargs):\n",
        "    values = []\n",
        "    window_size = min(window_size, sub_func_f.get_num_edges())\n",
        "    for i in tqdm(range(sub_func_f.get_num_edges() + window_size)):\n",
        "        # There are more elements to insert\n",
        "        if i < sub_func_f.get_num_edges():\n",
        "            algo.insert(sub_func_f.get_edges()[i][0])\n",
        "        \n",
        "        if i >= window_size:\n",
        "            algo.erase(sub_func_f.get_edges()[i - window_size][0])\n",
        "        values.append(algo.get_solution_value())\n",
        "\n",
        "    sum_values = 0.; len_values = 0\n",
        "    for v in values:\n",
        "        sum_values += v; len_values += 1\n",
        "    return sum_values/len_values\n",
        "        \n",
        "\n"
      ],
      "execution_count": null,
      "outputs": []
    },
    {
      "cell_type": "markdown",
      "metadata": {
        "id": "G0VDKdJSTZA6"
      },
      "source": [
        "## Run Experiment for Algorithm"
      ]
    },
    {
      "cell_type": "code",
      "metadata": {
        "id": "dl7mgYCUcDSQ"
      },
      "source": [
        "\n",
        "import pandas as pd\n",
        "import random\n",
        "def run_experiment_for_algorithms(experiment, sub_func_f, Algos, cardinality_ks, *args, seed=None, **kwargs):\n",
        "    if not seed == None:\n",
        "        random.seed(seed)\n",
        "    print(f\"Submodular Function: {sub_func_f.get_name()}\")\n",
        "    results = []\n",
        "    for Algo in Algos:\n",
        "        print(f\"Now running {Algo.get_algorithm_name()}\")\n",
        "        values_per_k, oracle_calls_per_k = [], []\n",
        "        for cardinality_k in cardinality_ks:\n",
        "            print(f\"Running k = {cardinality_k}\")\n",
        "            if Algo.get_algorithm_name() in [\"Greedy (simple)\", \"Totally Random Algorithm\", \"Sieve Streaming\"]:\n",
        "                algo = Algo(sub_func_f, cardinality_k)\n",
        "            else:\n",
        "                algo = Algo(sub_func_f, cardinality_k, **kwargs)\n",
        "            \n",
        "            oracle_calls_at_start = SubmodularFunction._oracle_calls\n",
        "\n",
        "            value = experiment(sub_func_f, algo, **kwargs)\n",
        "            values_per_k.append(value)\n",
        "            oracle_calls_per_k.append(SubmodularFunction._oracle_calls - oracle_calls_at_start)\n",
        "            \n",
        "        # Print results for current algorithm\n",
        "        res = pd.DataFrame({\"k\": cardinality_ks, \"f\": values_per_k, \"Oracle Calls\": oracle_calls_per_k})\n",
        "        results.append(res)\n",
        "    return results\n"
      ],
      "execution_count": null,
      "outputs": []
    },
    {
      "cell_type": "markdown",
      "metadata": {
        "id": "2PnKck2ldkKT"
      },
      "source": [
        "## Main"
      ]
    },
    {
      "cell_type": "code",
      "metadata": {
        "id": "3TsngwjOWN2j",
        "colab": {
          "base_uri": "https://localhost:8080/"
        },
        "outputId": "dbc6fa40-f2b2-4bf2-e25a-b39a128ad29f"
      },
      "source": [
        "if __name__ == \"__main__\":\n",
        "    Algos = [RandomSubsetAlgorithm, SieveStreaming]\n",
        "    # Algos = [IC_Maintenance]  # Also change experiment variable\n",
        "    # sub_func_f\n",
        "    # Choose a graph from [\"synBA\", \"enron\", \"twitter\", \"pokec\"] ... increasing order of sizes \n",
        "    f_syn = GraphUtility(\"synBA\")   # Change graph parameters in \"Create Synthetic Graphs\" section.\n",
        "    # Potential values of cardinality constraint that can be used\n",
        "    from10to200 = np.arange(10, 201, 10)\n",
        "    # Potential values of cardinality constraint that can be used\n",
        "    from20to100 = np.arange(20, 101, 20)\n",
        "    experiment = window_experiment_general  # Use window_experiment_for_IC if running IC_Maintenance\n",
        "    \n",
        "    print(\"Sliding Window Experiment\")\n",
        "    cardinality_ks = from20to100\n",
        "    for window_size in [10000]:\n",
        "        print(f\"Window size {window_size}\")\n",
        "        results = run_experiment_for_algorithms(\n",
        "            experiment,\n",
        "            f_syn,\n",
        "            Algos,\n",
        "            cardinality_ks,\n",
        "            window_size=window_size\n",
        "        )\n",
        "\n",
        "        for i, Algo in enumerate(Algos):\n",
        "            res = results[i]\n",
        "            res.plot('k', ['f', 'Oracle Calls'], xticks=cardinality_ks, title=f'{Algo.get_algorithm_name()}', subplots=True)\n",
        "\n"
      ],
      "execution_count": null,
      "outputs": [
        {
          "output_type": "stream",
          "name": "stdout",
          "text": [
            "Sliding Window Experiment\n",
            "Window size 10000\n",
            "Submodular Function: Graph_Networkx(synBA)\n",
            "Now running Totally Random Algorithm\n",
            "Running k = 20\n"
          ]
        },
        {
          "output_type": "stream",
          "name": "stderr",
          "text": [
            "100%|██████████| 1770/1770 [00:00<00:00, 15173.86it/s]\n"
          ]
        },
        {
          "output_type": "stream",
          "name": "stdout",
          "text": [
            "Running k = 40\n"
          ]
        },
        {
          "output_type": "stream",
          "name": "stderr",
          "text": [
            "100%|██████████| 1770/1770 [00:00<00:00, 8053.01it/s]\n"
          ]
        },
        {
          "output_type": "stream",
          "name": "stdout",
          "text": [
            "Running k = 60\n"
          ]
        },
        {
          "output_type": "stream",
          "name": "stderr",
          "text": [
            "100%|██████████| 1770/1770 [00:00<00:00, 6883.33it/s]\n"
          ]
        },
        {
          "output_type": "stream",
          "name": "stdout",
          "text": [
            "Running k = 80\n"
          ]
        },
        {
          "output_type": "stream",
          "name": "stderr",
          "text": [
            "100%|██████████| 1770/1770 [00:00<00:00, 5078.68it/s]\n"
          ]
        },
        {
          "output_type": "stream",
          "name": "stdout",
          "text": [
            "Running k = 100\n"
          ]
        },
        {
          "output_type": "stream",
          "name": "stderr",
          "text": [
            "100%|██████████| 1770/1770 [00:00<00:00, 4323.95it/s]\n"
          ]
        },
        {
          "output_type": "stream",
          "name": "stdout",
          "text": [
            "Now running Sieve Streaming\n",
            "Running k = 20\n"
          ]
        },
        {
          "output_type": "stream",
          "name": "stderr",
          "text": [
            "100%|██████████| 1770/1770 [00:04<00:00, 365.69it/s]\n"
          ]
        },
        {
          "output_type": "stream",
          "name": "stdout",
          "text": [
            "Running k = 40\n"
          ]
        },
        {
          "output_type": "stream",
          "name": "stderr",
          "text": [
            "100%|██████████| 1770/1770 [00:10<00:00, 174.94it/s]\n"
          ]
        },
        {
          "output_type": "stream",
          "name": "stdout",
          "text": [
            "Running k = 60\n"
          ]
        },
        {
          "output_type": "stream",
          "name": "stderr",
          "text": [
            "100%|██████████| 1770/1770 [00:16<00:00, 109.93it/s]\n"
          ]
        },
        {
          "output_type": "stream",
          "name": "stdout",
          "text": [
            "Running k = 80\n"
          ]
        },
        {
          "output_type": "stream",
          "name": "stderr",
          "text": [
            "100%|██████████| 1770/1770 [00:23<00:00, 74.71it/s]\n"
          ]
        },
        {
          "output_type": "stream",
          "name": "stdout",
          "text": [
            "Running k = 100\n"
          ]
        },
        {
          "output_type": "stream",
          "name": "stderr",
          "text": [
            " 81%|████████  | 1437/1770 [00:26<00:08, 37.99it/s]"
          ]
        }
      ]
    },
    {
      "cell_type": "markdown",
      "source": [
        "# Results\n",
        "\n",
        "#### Greedy on SynBA graph\n",
        "![Greedy_SynBA.png](data:image/png;base64,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)!\n",
        "\n",
        "#### Sieve Streaming on SynBA graph:\n",
        "![SieveStreaming_SynBA.png](data:image/png;base64,iVBORw0KGgoAAAANSUhEUgAAAXcAAAEWCAYAAACdaNcBAAAABHNCSVQICAgIfAhkiAAAIABJREFUeJzt3Xl8VOX59/HPJARCyAbZgIQQJEEIEGSRxeIGYsUF0Na6b221LtjW2v5qtYtPtT5qF6uPVX629QdYWqu2bm21LuAPWxZLkB0l7EmAEAJZIWSb54/rTDKEBDKQ5Mwk3/frNS9mzjkzc+Vw5pp7rvs+9wERERERERERERERERERERERERERERE5iRuA99wOIsjNA37kdhAiIs1NBZYBZcBB4N/A2a5GBA8CO4BKoAD4s9+6j4CvuxCTiEjIiAVKgeuAcKA3cDGQ42JMtwCbgaHO4/7AHX7rP+LEyb1Hx4QlIhI6JmDJvTW3Av/yezwceB9r4X8OfMVZPgnYh31B+FwJrHPuhwEPANuAEuAVoF8r7/ks8OtW1v0MqAeqsVb9s85yL3APkIe1+AEuB9Zgf98yjv3C8sVSAWxyYvX/m/8NPOU8dztwjrM8H9iPfQH5zAcede5fgP3SuN/Zbi9wm9+2CcDbQDnwH+d5/vtXRKRdxGLJdgEwE+jbbP2tNCWfPlhyuw1rHY8FDgDZzvptwAy/576KJVGAbwErgDSgF/DfwJ9aielG7Mvje9iXT3iz9R9xfMvdi33p9MN+fYzFkusk5/m3ADud9wa4GhiIfelcA1QBA/z+5jrn7wzHEvBu4DfO8y/GvhSine3nc2xyrwN+CkQAlwKHadqvLzu3KGy/5aPkLiIdZASWoAqwxPQWkOKsu5Wm5HMN8HGz5/438BPn/qPAi879GCxhDnYebwam+z1vAFBL6yWUG4APnNcoAb7vt+4jWk7u0/wePw880mybz4HzW3m/NcBs5/6t2C8An9HO66f4LSsBznLuz+fY5H6EY/+u/cBk7IuiFjjTb51a7nKMMLcDkC5lM5bQ0oBRWIu2pbLIYKwlXOp3uwGriQP8EbgKa91eBawGdvk993W/523Gyiv+CdPfIuAiIB64E0vUXzzJ35HfLNb7m8U6yPnbAG6mqWRT6vzdiX7PL/K7f6SVZdG0rAT7kvQ57GybhCV9/zj974souUuH+QxriY5qYV0+8L9YwvXdooG7nPWbsGQ+E7geS/b+z53Z7LmRQOFJ4qnFyjvr/GLytrKt//J8rD7v/35RWCloMPBbYC5WA48HNgCek8RyuoqxpJ/mt2xQB7+nhBgld2kvw7EWri/hDMJGzqxoYdu/AcOAm7B6cgQ2ZHKE3zZ/xOrr52FJ2Wcelmx9ZZokmsogzd0KXIaVdsKwL4WRwEpnfRFwxkn+rt9iLf5JWNLu4/eafbAvgmJn29to+cusvdUDfwUexr5ohmO/IEQaKblLe6nAEuBKrL69AmvF3t/KthcD1wJ7sNExT9DUSQnWMj4fWIx1tvo8jdXy33NeZ4Xzvi0px8a578ZKJk9ivw58temngS8Dh4BnWnmNVcDt2GiaQ8BW7EsD7BfGL4Hl2BfFaGx0TGeYC8Rh++4lbH8d7aT3FhGRTvIENlJJRERC2HBsvL0HmIj9upnjakQiInLazsZKRIexk61+QMd35IqIiIiIiIiIiIiIiIiIiIiIiIiIiIiIiIiIiIiIiIiIiIiIiIiIiIiIiIiIiIiIhLygmNw/ISHBm5GR4XYYIiIhJTc39wB2kfjj9OjkWFqUkZHBqlWr3A5DRCSkeDyeXa2tC+vMQEREpHMERctdRKSrq61vYFdJFXlFlWzdX0nefvv3qnGpfP3cM9r9/ZTcRUTaUXVtPduKLXFv3V9pyby4kp0Hqqhr8DZulxrfm6yUaJJienVIHEGb3GtraykoKKC6utrtUI4TGRlJWloaERERbociIi6pqK5tTOD+LfH8Q4fxOjk8PMzD4H5RZCZHc3F2Clkp0WQmxTA0uQ9RPTs2/QZtci8oKCAmJoaMjAw8nqAY1AOA1+ulpKSEgoIChgwZ4nY4ItLBDlbVkFdUwdZia4Vvc/7dV97U8OwZHsYZSX3ISYvjqnGpZCXHkJkcTUZiFL16hLsSd9Am9+rq6qBL7AAej4eEhASKi4vdDkVE2onX66Wo/Ch5+yuOaYVv3V/Jwaqaxu2ieoaTmRzNOUMTyEyJJjMpmqyUGAb17U2P8OAanxK0yR0IusTuE6xxiciJNTR4KTh05Lgkvm1/JRVH6xq3i+sdQZZTSslMjiYz2ZL4gNhIwsJC4/Mf1Mndbc888wzPP/8848aNY9GiRW6HIyJt5BuZ4t+hmVdUyfYDlVTXNjRulxTTi6zkaK4cl0pWcjRDk6PJSo4hMbpnyDfilNxP4LnnnuODDz4gLS3N7VBEpAXNR6b4WuMtjUxpLKckRzd2bMZFdd1BEUrurbjzzjvZvn07M2fO5Ktf/Sr33Xef2yGJdFvNR6b4krj/yJQwD2Qk9GGoXzklKzmGM5L60KdX90t1IfEX/5+3N7JpT3m7vmb2wFh+csXIVtfPmzePd999lyVLlpCYmNiu7y0iLTtYVeMk7opjxom3NDJltDMyxZfE3RyZEoxCIrmLSNfhG5nin8TznE7NkmYjU4YmWSnFauHWsZneLyroRqYEo5BI7idqYYtIcPKNTNlaXHHMKffNR6bERvYgKyWGGX4jUzKToxkY1ztkRqYEo5BI7iIS3A5V1bC+sIz1hWVsKapocWRKYrSNTJkzNtU6NJ0knhTdK+RHpgQjJXcRCUhFdS0bCstZV1DKusIy1heUsfvg4cb1vpEpU4YmNJZSMpOjiY/q6WLU3Y+S+wns3LnT7RBEXHWkpp5Ne8tYV+C7lbL9QFXjCJXU+N6MGRTHdRPTGZMWx8jUOOJ6d93hhaFEyV1EAKipa+DzfRWsLShlfUEZawtKydtfSb0zXjwpphdj0uKYfVYqo9PiyEmNIyG6Y2Y0lNPXluQeCSwFejnbvwb8BBgCvAwkALnATUCNs91CYDxQAlwD7GznuEXkNNTVN7C1uLKxNb6+oIzNeyuoqbcaeXxUBDlp8Vw0IoWctDhy0uLpHxfpctQSiLYk96PANKASiAD+BbwDfAd4Ckvw84CvAc87/x4CMoFrgSewBC8iLmho8LKzpOqY0srGPeUcqa0HILpXD0alxnLbFzIYnRbHmLR40vr2VidniGtLcvdiiR0suUc4y6YB1zvLFwAPY8l9tnMfrJX/LHYh7qZzgdvI6/UG5QHm9Qb8p4h0Cq/Xhh+uLyxrLK+sLyyjotqGHkZGhDFyYBzXnD2IMYPiGJ0azxmJfTTksAtqa809HCu9ZAK/AbYBpYBvsGoBkOrcTwXynft1QBlWujkQSGCRkZGUlJSQkJAQVAneN597ZKR+oor79pdXs7agjPUFpfZvYVnjFLUR4R5GDIhl1piBjaWVrORonQDUTbQ1udcDZwHxwOvA8HZ47zucW4tzo6elpVFQUBCU86b7rsQk0pkOVdWwrrCMdfk2BHFdQSlF5UcBm1dlWEoM04cnkzMonjFpcZzZP0an43djgY6WKQWWAFOwRN8Da52nAYXONoXAIKw13wOIwzpWm3vBuZGUlHRcnSMiIkJXOpJuq6K61k4K8tXJC0vJP3ikcf0ZSX2YckYCOWnx5KTFkT0wtsMv2yahpS1HQxJQiyX23sAMrJN0CfBlrEP1FuBNZ/u3nMfLnfWLOYV6u0h3caSmno17LIn7auXbi6sa16f17c2YtHhumDSYnLQ4RqXGERupseRyYm1J7gOwDtNwIAx4BfgbsAlL7I8CnwK/d7b/PfASsBU4iI2YERHgaF29M5bc6uTrCux0fd/U4ymxvRidGs+VvrHkafH066MzOyVwbUnu64CxLSzfDkxsYXk1cPXpBCXSFdTVN5C3v7LxhKD1hWV85jeWvK8zlnxGdkpjeSUlVh310j5UpBNpBw0NXnaUVNl8K06dfOOessaJs2J69WBUahy3Tc0gJ9USucaSS0dSchcJkG8sue+EoHUFZWwoLGucxjYyIoxRA33zrcQzOi2OIQkaSy6dS8ld5CSKyqtZm1/qdHZarfzQ4VqgaSz57LEDrUU+KI7MJI0lF/cpuYs0U1xxlH9vPcDSvGKWbS1pvMRbeJiHrOToY2rkGksuwUrJXbq96tp6Vu08xMd5xSzNO8DmvXa93r5REZyTmcj49L6MGRRH9oA4evdUIpfQoOQu3Y7X6+Xzogr+lXeApXkHWLm9hKN1DUSEexg/uC/f++KZnJeVxMiBsaqTS8hScpduwb/U8q+8A+yvsNP2M5OjuX5SOudmJTJpSAJ9eukjIV2DjmTpkvxLLR/nHWCTX6nlC5mJnJeVxNSsRAbG93Y5UpGOoeQuXYLX62VLUWVj3VylFunulNwlZKnUItI6HfUSMhpLLVuL+XiLSi0iJ6LkLkFLpRaRU6fkLkFFpRaR9qFPiLiqurae3F2HWJqnUotIe1Jyl07VvNTyyY4SqmtVahFpb21J7oOAhUAKdkWlF4CngYeB2wHfRU4fBP7h3P8B8DXs2qvfBP7ZbhFLyPGVWj7OO8DHecXHlFqum6hSi0hHaMunqQ64H1gNxAC5wPvOuqeAXzTbPhu7+tJIYCDwATAMS/TSDajUIuK+tiT3vc4NoALYDKSeYPvZ2OX3jgI7sMvtTcSuqSpdkEotIsEn0N/BGdgl91YCXwDmAjcDq7DW/SEs8a/we04BLX8Z3OHcKC4ubmG1BLMTlVquPTud84ap1CLipkA+edHAX4BvA+XA88AjWB3+EeCXwFcDeL0XnBtJSUneAJ4nLlCpRSS0tDW5R2CJfRHwV2dZkd/63wJ/c+4XYp2wPmnOMgkhKrWIhLa2JHcP8Hus1v4rv+UDaKrFXwlscO6/BfzR2XYgkAV80h7BSsc6UOmcQLRFpRaRUNeWT+kXgJuA9cAaZ9mDwHXAWVhZZifwDWfdRuAVYBM20uYeNFImKLVWaomPimCqSi0iIS0ofk+PHz/eu2rVKrfD6Ba2FFWwdIvNcb6yWanl3Kwkzs1KZOTAOMJVahEJeh6PJxeY0NI6/b7uBo7W1fP3dXtZsHwXa/NLAZVaRLo6faK7sL1lR1i0Yjd/+mQ3JVU1nJHUh59ckc0XR/ZXqUWki1Ny72K8Xi8rdxxk4fKd/HNjEQ1eL9OHp3DLOYOZmpmIx6Nyi0h3oOTeRRyuqeONT/ewcPlOPttXQVzvCL4+dQg3Th7MoH5RbocnIp1MyT3E7Sqp4qXlu3hlVT7l1XWMGBDLE18azawxqfTuGe52eCLiEiX3ENTQ4GVpXjELl+9iyef7Cfd4uGRUf245J4MJg/uq9CIiSu6hpLy6ltdWFfDSil3sOFBFYnQv7p2WxfUT0+kfF+l2eCISRJTcQ0BeUQULlu/kr6sLOVxTz9j0eJ6+9ixmjhpAzx5hbocnIkFIyT1I1dU38MHm/SxcvpNl20ro2SOMWWMGcvOUweSkxbsdnogEOSX3IHOwqoaX/7ObRSt2U1h6hIFxkfzXJWdyzYRBJET3cjs8EQkRSu5BYkNhGfOX7eSttXuoqWvgnKEJ/OjybC4akUyPcJVeRCQwSu4uqqlr4J0Ne1mwbCerd5cS1TOcr0xI4+YpGQxLiXE7PBEJYUruLigqr2bRyt38ceVuDlQeJSMhih9fns2XxqcR1zvC7fBEpAtQcu8kXq+X3F2HmL9sJ+9u2Ee918uFZyZz85TBnJeVpAteiEi7aktyHwQsBFKwudtfAJ4G+gF/xq6ruhP4CnYNVY+z/lLgMHArsLpdow4h1bX1vLmmkAXLdrFpbzkxkT249ZwMbpw8mIzEPm6HJyJdVFuSex128evVQAyQC7yPJe0PgceBB5zb94GZ2NWXsoBJ2LVWJ7Vz3EEv/+Bh/rBiF39elU/p4VrOTInhsStHM2fsQKJ66geTiHSstmSZvTRdTq8Cu9xeKjAbuMBZvgD4CEvus7GWvhdYAcRz7CX5uiyv18u/t5Ywf9lOPvysiDCPhy+OTOHmKRlMGtJP0wKISKcJtAmZAYwFVmJlGl/C3uc8Bkv8+X7PKXCWddnkXnm0jr/kFrBw+U62FVeR0Kcn91yQyfWT0jVvuoi4IpDkHg38Bfg2UN5snde5BeIO50ZxcXGATw0O24orWbhsJ39ZXUjl0TrGpMXxq6+M4bKcAfTqoRkZRcQ9bU3uEVhiXwT81VlWRFO5ZQCw31leiHXC+qQ5y5p7wbmRlJQU6BeDa+obvCz5bD8Llu/k47wD9AwP47KcAdxyTgZnDdK0ACISHNqS3D3A77Fa+6/8lr8F3IJ1qN4CvOm3fC7wMtaRWkYXKMmUHq7hlVX5vLRiF/kHj9A/NpLvXjyMa85OJylG0wKISHBpS3L/AnATsB5Y4yx7EEvqrwBfA3ZhQyEB/oENg9yKDYW8rR3j7XSb9pSzcPlO3lhTSHVtAxOH9OMHM0cwIzuFCE0LICJBqi3J/V9Y670l01tY5gXuOeWIgkBtfQP/3LiPhct28cnOg0RGhHHl2DRunjKYEQNi3Q5PROSkNODaz/6Kal7+JJ9FK3dRVH6U9H5R/PCyEVw9fhBxUZoWQERCR7dP7l6vl0/zS1m4bCd/X7+X2nov5w9L4v9eNZjzhyUTrmkBRCQEddvkXl1bz9/W2YyM6wvLiOnVgxsnD+amyYM5Iyna7fBERE5Lt0vuhaVHWLRiFy//J5+DVTVkJUfzyJxRXDk2lehe3W53iEgX1S2ymdfrZfn2EhYu28V7m/YBMCM7hVumZDBlaIKmBRCRLqdLJ/eqo3W8/mkhC5fvZEtRJX2jIvjG+UO5YVI6aX2j3A5PRKTDdMnkvuNAFS8t38WruflUVNcxKjWWn385hyvGDCQyQtMCiEjX12WSe0ODl//dUsyC5Tv56PNiIsI9XDp6ADdPyWBcerxKLyLSrYR8ci87UsurzrQAu0oOkxzTi/suGsZ1EweRHBvpdngiIq4I6eT+7oa93PfntRyprWfC4L589+Iz+eLI/vTsoWkBRKR7C+nkPnJgHFeMsdLLqNQ4t8MREQkaIZ3cB/WL4skvj3E7DBGRoKP6hYhIF6TkLiLSBQXL+MBibE74U5EIHGjHWNpLHHahkmCkfRYY7a/AaH8F5nT212AgqR1jCSqr3A6gFS+4HcAJaJ8FRvsrMNpfgemQ/aWyTMd52+0AQpD2WWC0vwKj/RVigrWVEMy0zwKj/RUY7a/AdMj+6ioTreS6HUAI0j4LjPZXYLS/AqP9JSIiIiIiLnsR2A9saMO2TwFrnNsWoLQD4xIRkdNwHjCOtiV3f/diXwwiIhKkMjg2uQ8F3sU6Gz4GhrfwnGXAjA6PTERETlkGxyb3D4Es5/4kYHGz7QcDe+k6o35ERNpFMM8KGQ2cA7zqt6xXs22uBV4D6jsrKBERCVwGTS33WKxVfiKfYl8AIiLiJ5inHygHdgBXO489gP/k7cOBvsDyTo5LREQC8CespV4LFABfA4ZgHaprgU3Aj/22fxh4vHNDFBERERERERERERFpVVBciSkhIcGbkZHhdhgiIiElNzf3AK1ciSkoxrlnZGSwapWmgBYRCYTH42n18qTBPBRSRKRrqzsK1eUd8tJK7iIinam2Gj77O/z1Dvh5Jqx4rkPeJtCyzIvA5djUvKNaWH8B8CZ28hHAX4GfnmpwIiJdQs1h2PoBbHoTtrwLNZXQuy9kz4Yh53fIWwaa3OcDzwILT7DNx9gXwGmpra2loKCA6urq030pCVBkZCRpaWlERES4HYpI6Kqpgrz3nIT+HtRWQVQCjPoSjJwDGedCeMd9xgJN7kux+V86XEFBATExMWRkZODxBMWgnm7B6/VSUlJCQUEBQ4YMcTsckdBytNJa5pvehLz3oe4I9EmCMddA9hwY/AUI75xxLB3xLlOw6QL2AN8FNp7Ki1RXVyuxu8Dj8ZCQkEBxcbHboYiEhurypoS+9QOoq4boFBh7o7XQ06dAWOfPSt7eyX01Nsd6JXAp8AZN87E3d4dzazWRKLG7Q/td5CSOlMLn71hC3/Yh1NdAzEAYf6vV0QdNciWh+2vv0TLlWGIH+AcQASS2su0LwARgQlJSi2PwXVdQUMDs2bPJyspi6NChfOtb36KmpqZdXvvhhx/mF7/4RUDPeeedd5gwYQLZ2dmMHTuW+++//4Tbz58/n7lz557y+4mIn8MH4dM/wKKrbZTLG3fCvvVw9u3w1ffgvo0w8wkYfI7riR3aP7n3p+ms14nO65e083t0Cq/Xy1VXXcWcOXPIy8tjy5YtVFZW8tBDDx23bV1dXYfHs2HDBubOncsf/vAHNm3axKpVq8jMzOzw9xXp1qpKYPVCeOkq+EUWvHkPFH8Gk++Er38I922ASx6D9EkQFlwjywON5k/Y/Oln0jQt753ODeDL2MU21gLPYFdK8rZLpJ1s8eLFREZGcttttwEQHh7OU089xYsvvsjhw4eZP38+s2bNYtq0aUyfPp3KykqmT5/OuHHjGD16NG+++Wbjay1cuJCcnBzGjBnDTTfddNx7bdu2jUsuuYTx48dz7rnn8tlnnx23zZNPPslDDz3E8OHDG+O56667AHj77beZNGkSY8eO5aKLLqKoqOiEf9szzzxDdnY2OTk5XHvttae8j0S6pMpiWPU/sHCOJfS37oWD22DKXLh9CXxrHVz8KKRNgCAuYQZac7/uJOufdW7t650H7OdPe+o/Gma2Ph38xo0bGT9+/DHLYmNjSU9PZ+vWrQCsXr2adevW0a9fP+rq6nj99deJjY3lwIEDTJ48mVmzZrFp0yYeffRRli1bRmJiIgcPHjzuve644w7mzZtHVlYWK1eu5O6772bx4mMvF7thw4ZWyzBTp05lxYoVeDwefve73/Hkk0/yy1/+stW/7fHHH2fHjh306tWL0tLSVrcT6TYqiuCzt62GvvNf4G2AfkNh6retht4/J6gTeUuCYm6ZUDVjxgz69esHWBnnwQcfZOnSpYSFhVFYWEhRURGLFy/m6quvJjHRuh582/tUVlaybNkyrr766sZlR48eDSiOgoICrrnmGvbu3UtNTc1JhzDm5ORwww03MGfOHObMmRPQe4l0GeV7YbOT0Hf9G/BC4jA497uW0FNGhlxC9xcayf0ELeyOkp2dzWuvvXbMsvLycnbv3k1mZiarV6+mT58+jesWLVpEcXExubm5REREkJGR0aYTsBoaGoiPj2fNmjUn3G7kyJHk5uYyZsyY49bde++9fOc732HWrFl89NFHPPzwwyd8rb///e8sXbqUt99+m5/97GesX7+eHj1C41AQOS1lhbD5LUvou1cAXkgaAed/34YtJg0P6YTuL7h6AILI9OnTOXz4MAsX2sm49fX13H///dx6661ERUUdt31ZWRnJyclERESwZMkSdu2yydqmTZvGq6++SkmJ9Ss3L8vExsYyZMgQXn31VcB+Aaxdu/a41//e977HY489xpYtWwD7Upg3b17je6empgKwYMGCE/5dDQ0N5Ofnc+GFF/LEE09QVlZGZWXlCZ8jEtJK82HZs/C7GfBUNrz7ABytgAsfhHs+gXtWwIU/gOQRXSaxQ6i03F3g8Xh4/fXXufvuu3nkkUdoaGjg0ksv5bHHHmtx+xtuuIErrriC0aNHM2HChMaOz5EjR/LQQw9x/vnnEx4eztixY5k/f/4xz120aBF33XUXjz76KLW1tVx77bXHtdBzcnL49a9/zXXXXcfhw4fxeDxcfrnN8vDwww9z9dVX07dvX6ZNm8aOHTtoTX19PTfeeCNlZWV4vV6++c1vEh8ffxp7SiQIHdpprfNNb0Jhri3rnwPTfmRniiZ2/ZFmQfE1NX78eG/z+dw3b97MiBEjXIpItP8l5Bzcbsl84xuw1ylzDjjLyi0jZkHCUHfj6wAejycXO1/oOGq5i0joOrAVNr1hN9+IutTxMOMRyJ4FfTNcDc9NSu4iElqKP29qoe93pq5KmwhffAxGXAHx6e7GFySU3EUkuHm9sH+zU0N/w84QxQPpk+GSx63kEpfqdpRBJ6iTu9fr1SRWLvB6Q/KkYulKvF4o2tDUKXpgC+CxKXNn/txa6LED3I4yqAVtco+MjKSkpISEhAQl+E7km889MjLS7VCku/F6Yd86K7dsetNO+feEQcZUmPQNGH4FxKS4HWXICNrknpaWRkFBgeYVd4HvSkwiHc7rhT2fOp2ib9oQRk84DDkPzrkXhl8O0cE5a2ywC9rkHhERoSsBiXRFXq+NPd/4Omx6C8p2Q1gPu5bouffDmZdBnwS3owx5QZvcRaQLaWiAgv801dDLCyAsAoZeCBc8AGfOhKh+J38daTMldxHpGA31kL/SSehvQcUeCO8JQ6fD9B/BsEugt86O7ihK7iLSfhrqYdcyS+ib34LKIgjvBVkzIPunMOyLEBnrdpTdgpK7iJyewwdh22LIe98uEH34APTo7ST02ZbQe8W4HWW3o+QuIoFpaIC9n0LeB7D1fesc9TZA736QOR2GXwZZF0PPPid/LekwSu4icnJVJdY63/o+bP3QWud4IHUcnPdf1kofODYoLgwtRsldRI7X0GDjz7e+b+WWwlzAC1EJ1iGaNQOGToM+iW5HKq1QchcRU1UC2z60ZL7tQzhcgrXOx9twxcwZMPAstc5DRKDJ/UXgcmA/MKqF9R7gaeBS4DBwK7D6NOITkY7SUG+t87z3ndr5ahpb55kXWTIfOk0nFIWoQJP7fOBZYGEr62cCWc5tEvC886+IBIOqA1Yz99XOjxwEPJA2AS74AWRdBAPGQpiuwBnqAk3uS4GME6yfjSV+L7ACiAcGAHtPJTgROU0N9dYi99XO93yKtc4TbUSLr3aus0O7nPauuacC+X6PC5xlLSX3O5ybJgcTaU+VxX6188UttM5n2OXn1Drv0tzsUH3BuZGUlKQJxEVOVUO9jWbx1c73rEGtc2nv5F4IDPJ7nOYsE5H2VFlsZ4Nu9bXOD9nc56kT4MIHrUNUrfNurb2T+1vAXOBlrCO1DNXbRU5fY+v8PWuh711jy/sk2QRcmRepdS7HCDS5/wm4AEjE6uk/ASKcdfPB/czhAAAMKElEQVSAf2DDILdiQyFva5coRbqjyv1NI1v8W+dpZ8OFP7SRLf3HqHUuLQo0uV93kvVe4J5TjEWke2uoh4JVTSNbGlvnyTBspiXzMy5U61zaRGeoiripcr/Vzn0jW6pLndb5RJj2QzuRqH+OWucSMCV3kc5UXweFq5pGtuxda8ujU2w2xcyL7OpEvfu6G6eEPCV3kY5WUXTsyJbqMrsI9KCJMO1HNlQxZbRa59KulNxF2lt9nV0v1Fc737fOlkenwPArnNr5BWqdS4dSchdpDxX7mmrn25f4tc4nwfQfO7Xz0eDxuB2pdBNK7iKnor4OCj5pqp3vW2/Lo/s7rfMZTutcF4AWdyi5i7RV+V6/2vlHcFStcwleSu4iramttpEtWz+w64UWOa3zmAGQfYUl8zMuUOtcgpKSu4hPdRnkfwK7lsHu5TZVbv1Ra52nT4bpP3FGtoxS61yCnpK7dF8VRbB7Gexabv8WbQRvgyXzgWfBxNshfQoMORci49yOViQgSu7SPXi9cHC70ypfYcn84HZbFxFlc52f918weIrN3dKzj7vxipwmJXfpmhrqoWhDU6t89wqoLLJ1vftZi3zCV+3fAWMgPOLErycSYpTcpWuorYY9q5vq5fmfwNFyWxc3CIacb63y9HMgcZjOBpUuT8ldQlN1Gexe2VQz37Ma6mtsXdIIGPUlGHyOtczjB534tUS6ICV3CQ0V+5pa5buWW8kFL4T1sCsOTfqGtcrTJ2tKXBGU3CUYeb1Qss0S+e7lltQP7bB1EX1g0NlwwQPWKk+boM5PkRYouYv7Gurt9H1fIt+9Aqr227qoBEviZ3/daub9c9T5KdIGSu7S+Wqr7Xqgvnp5/idQU2Hr4tJtPvP0KVYzTxymE4ZEToGSu3S8I6WQv7KpZr7n06bOz+RsyPmK0/k5GeLS3I1VpIs4leR+CfA0EA78Dni82fpbgZ8Dhc7jZ53tpLso3+t35udyO/PT1/k5cCxMutOS+aBJ6vwU6SCBJvdw4DfADKAA+A/wFrCp2XZ/BuaednQS/LxeKNnaNIpl9zI4tNPWRfSxqw1d+KCVWVLHQ88oV8MV6S4CTe4Tga2Ac942LwOzOT65S1dVX2ezI/qf+VlVbOuiEq20MvEOS+b9cyBclT8RNwT6yUsF8v0eFwCTWtjuS8B5wBbgvmbPkVBSe8Q6P33JPP8TqKm0dfGDYeh0vzM/s9T5KRIkOqJZ9TbwJ+Ao8A1gATCthe3ucG4UFxd3QBhySo4cajrzc/cKm/a2oRbwWOfnmGutVZ4+BeJS3Y5WRFoRaHIvBPzP5U6jqePUp8Tv/u+AJ1t5rRecG0lJSd4A45D2Ur7n2DM/92/COj8jIHUcTLnbOfNzki7oLBJCAk3u/wGygCFYUr8WuL7ZNgOAvc79WcDm0wlQ2lFDQ1Pnp++EodJdtq5ntHV+jrzSyiyp4yGit7vxisgpCzS512GjYP6JjZx5EdgI/BRYhY2c+SaW1OuAg9jQSHFDxT4rqxTm2m3PaptwC6zzc/AUZ1jiFEgZrc5PkS4kKHq/xo8f7121apXbYYS2oxWwZ01TIi9cDeUFts4TDikjrTWeOt5GtCRkqvNTJMR5PJ5cYEJL69RUC0X1tXZikC+JF+ZC8WeA03XR74ym0krqeOg/WiUWkW5GyT3Y+S4P19giz4W96+zCzWDllbQJMOoq6wAdOE5nfYqIknvQqdx/bCIvXA3VpbYuIso5ff+OplZ53CCVV0TkOErubjpaCXub1cnLnPO9POGQkg0j5zQl8sQz1ekpIm2iTNFZ6mttDLl/Ii/+DLwNtr5vhg1FnHyXUyfP0TwsInLKlNw7gq9OvudTvzr5WqirtvVRCZbAs2fbvwPHQZ8Ed2MWkS5Fyb09VBYfWyffs9pO4werkw84y64k5CuvxKerTi4iHUrJPVBHK60VfkydfLet84RB8kgYMaspkScNV51cRDqdss6J1Ne1UCff3FQnjx9swxAnfcMS+YAcXaxZRIKCkruP12sXmfA/MWjvWqg7Yut797MEPuIKp1U+DvokuhqyiEhrum9yrzpw7Lwrhblw5KCt69EbBoyBCV+1JJ463kazqE4uIiGieyT3miq/OrmT0H2zIXrCbJ7yEZfbqJXU8ZA8AsIj3I1ZROQ0dL3kXl9ndXH/Ovn+TX518nRL4BNvd+rkY1QnF5EuJ7STu9drLXD/FvmeNX518r6WwIdf1jSePDrJ3ZhFRDpBaCf3tS/DG3fa/R6RTp38tqYOz75DVCcXkW4ptJN7xlS4/CmnTp6tOrmIiCO0k3v8IBvRIiIixwhzOwAREWl/Su4iIl1QsPQ2FgO7TvG5icCBdoylvcQBZW4H0Qrts8BofwVG+yswp7O/BgNddghgsF5Z+wW3AzgB7bPAaH8FRvsrMB2yv1SW6Thvux1ACNI+C4z2V2C0v0JMsLYSgpn2WWC0vwKj/RWYDtlf4R3xoi7IdTuAEKR9Fhjtr8BofwVG+0tEREREREREpGsIhZr7zUA8UAocxUb4eF2NKLh9CeiFnTvgJXjOZQhWOr4Co+MrcGlAuXO/046vYP2P8QD9gT8CDcBWIAb4JjbY34M+gP48QDrwGnYQlQCfA7/Ekpb21/H6Ay8D9ej4OhkdX6cmHZiPzeG1A3jY+bdTBOM493DsQIkBCoHpwN3Yhy5YT0JwUyy2v1KB/2D760fY/vuZi3EFq4HYGYExQAE6vk4mGju+BgIr0fF1Mv4N5ruAFcB5wF7gaexXYqcIpuQeDjzm3M4HzsRaVTj/fhs4x1nnJbhid8s9wFIgG/vpN8BZvg34FTAVmIh+PoMdL49hH7ZRwFl+63R8Ha8Htr9eB24EZmMNCdDxdSK9/e57gX3O/QewKsQ1QLeam/x8YA3wPHA7lrAuAXZjB4/PncCSTo8u+Pg+SA9gyeop7MsxHxjrt913sJ+FArcAfwX6Oo+jgJ3o+GpJX+AV4DngMqwccyWwh2O/FHV8NZkO/Av4H+AGZ9kPgLk0fSnOAN4HEjo9OhedC9zk9/g57CfNrTQN7g/D6qSvYJPldHdhWFK/CTugZmItrH8668Ox/focTQmtu/IAjwIXOI+nYJNI/RBrSICOL3+DgE/8Hi/EvgTvBt5ylun4atIPWA58GbgQ20dzgeHO/ZE0Ncj+CXzLud+hv3aC5adnLvah8o3e+TdNnRHhwL3YT5o0oI5Tn0GyqwjD9scBoAp4D0vsK4Ac4Hqs1BDl3A65E2bQ8GIz512JHUvPAvOwFtVZ2IgZ0PHlkw8cxj5/HwBfwFqhtc79a9HxFUZT/hwIrMdKWEuA7wI/xfoMN2JJf7iz7as0XSSpW3ZCz8d+8oGVGZ4D/gbkAd9zlqvGZ6M9+mAtp/VYh+qPsAmSXsFqo3c523b3/TUaazTMcx5nYa2rJcAv0PHVXBJwB9ZqBys7fAf4C/Bn7PjaTvc8vm7DSlSPOo8zsM9fit82zwO/xz6fPwfeBO7DSs0XdVagwSQc+zZ8B8h0lmViPcxTsREh0uQHwAJgLVZe+BCIdNbNwn5ei4nEyler/Zbdgf1E9gDT0PHV3K1Yx6nPL4DrsNZ6dz2+ooE3sONmNTbwA+xz+Ce/7WKxxtYgoCe23/4f9sunW/JgJ0i8BFyFtaYW0NQhIcd6CPsiPN95/CTwfffCCXop2Bfhl4ARwGKsjiwtm4q10CcDyVgD4oYTPqN7SHf+fRz7FQPWQi/G+nPASi+/9dtWsAOpAet5/prLsQQ7/2FXHo79WSgtmwr8GOswvN3lWIJdJFZKWAxswH7pSJP+2HF0mfP4HuDvWNnmJ1gfWHfvbD5GGlZu6OV2ICGkx8k3kWZCYeqNYDGEbjY2OwDfAD72ezwT+wW9CJfLVt2pE0REpD35Rq29hp2s1AD8Dutc7ZYjYUREuooorC+iGJubKGjo57yIyKm7Gxs1MwObVVRERLqAYDkRVEREREREREREREREREREROT0ZWCn3YuEHA3jERHpgpTcRdrmDOBT4Gy3AxERkdOTgZVlzsQS+xhXoxERkXaRARQBnwHZ7oYiEhiVZUROrAy7NNpUtwMREZH2kYGVZfpgF4+53tVoRESkXWTQNBQyHrsm5izXohEREREREREREREREREREREREREREREREREREQkW/x+8ymZqfc68dQAAAABJRU5ErkJggg==)!\n",
        "#### Random on SynBA graph\n",
        "![Random_SynBA.png](data:image/png;base64,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)\n",
        "\n",
        "#### Random on Enron graph:\n",
        "![Random_Enron.png](data:image/png;base64,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)\n",
        "\n",
        "#### Sieve Streaming on Enron graph:\n",
        "![SieveStreaming_Enron.png](data:image/png;base64,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)\n",
        "\n",
        "#### Influential Checkpoint Maintenance on SynBA graph:\n",
        "![ICMaintenance_SynBA.png](data:image/png;base64,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)"
      ],
      "metadata": {
        "id": "KNEhVPd3YQFG"
      }
    },
    {
      "cell_type": "markdown",
      "metadata": {
        "id": "3CodvGqozLoy"
      },
      "source": [
        "# References\n",
        "1. https://github.com/google-research/google-research/tree/master/fully_dynamic_submodular_maximization\n",
        "2. https://arxiv.org/pdf/1702.01586.pdf\n",
        "3. https://github.com/sbuschjaeger/SubmodularStreamingMaximization"
      ]
    }
  ]
}